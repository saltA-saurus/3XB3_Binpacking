{
 "cells": [
  {
   "cell_type": "markdown",
   "id": "d0f21658-40c8-40c9-99d2-ec8c0b42e84f",
   "metadata": {},
   "source": [
    "# Bin Packing Lab"
   ]
  },
  {
   "cell_type": "markdown",
   "id": "f9ffdec9-9fcb-4a7b-910e-abecc6352210",
   "metadata": {},
   "source": [
    "- Authors:\n",
    "  - Jung Woo Lee, lee331@mcmaster.ca\n",
    "  - Nicholas Fabugais-Inaba, fabugain@mcmaster.ca\n",
    "- Group ID on Avenue: 56\n",
    "- Gitlab URL: https://gitlab.cas.mcmaster.ca/lee331/l2-bin-packing"
   ]
  },
  {
   "cell_type": "markdown",
   "id": "fcb763d5-aa1a-4ef1-a6ba-e3cbaae313aa",
   "metadata": {},
   "source": [
    "## How to use the provided code?"
   ]
  },
  {
   "cell_type": "markdown",
   "id": "a0308135-ad12-4563-92b8-45681d3e90a2",
   "metadata": {},
   "source": [
    "_(this section is just here for information, you can get rid of it in your own report)_"
   ]
  },
  {
   "cell_type": "code",
   "execution_count": 1,
   "id": "2166b346-058f-4619-9072-e6fbe608fa0e",
   "metadata": {},
   "outputs": [],
   "source": [
    "from macpacking.reader import DatasetReader, BinppReader\n",
    "from macpacking.model  import Online, Offline\n",
    "import macpacking.algorithms.offline as offline"
   ]
  },
  {
   "cell_type": "markdown",
   "id": "5fe23917-cc5c-4883-9a2a-581f3fbb2ba4",
   "metadata": {},
   "source": [
    "Now that the business code is imported, we can load an existing dataset"
   ]
  },
  {
   "cell_type": "code",
   "execution_count": 2,
   "id": "21df8c2c-a6fa-434b-88c3-361404872819",
   "metadata": {},
   "outputs": [
    {
     "name": "stdout",
     "output_type": "stream",
     "text": [
      "Dataset: _datasets/binpp/N1C1W1/N1C1W1_B.BPP.txt\n",
      "  - Bin Capacity: 100\n",
      "  - Objects to pack: [8, 8, 12, 13, 13, 14, 15, 17, 18, 19, 20, 23, 30, 37, 37, 39, 40, 43, 43, 44, 44, 50, 51, 61, 61, 62, 62, 63, 66, 67, 69, 70, 71, 72, 75, 76, 76, 79, 83, 83, 88, 92, 92, 93, 93, 97, 97, 97, 99, 100]\n"
     ]
    }
   ],
   "source": [
    "dataset = '_datasets/binpp/N1C1W1/N1C1W1_B.BPP.txt'\n",
    "reader: DatasetReader = BinppReader(dataset)\n",
    "print(f'Dataset: {dataset}')\n",
    "print(f'  - Bin Capacity: {reader.offline()[0]}')\n",
    "print(f'  - Objects to pack: {sorted(reader.offline()[1])}')"
   ]
  },
  {
   "cell_type": "markdown",
   "id": "0ec54798-4c40-4a2c-a88f-59d6da87975e",
   "metadata": {},
   "source": [
    "Acording to the `oracle.xslx` file, we now that the optimal solution for this case is to use _31_ bins. Let's call the baseline algorithm, which is an offline one, and see how it performs."
   ]
  },
  {
   "cell_type": "code",
   "execution_count": 3,
   "id": "6358d7c1-1777-4c63-af33-d4ebfea952a7",
   "metadata": {},
   "outputs": [
    {
     "name": "stdout",
     "output_type": "stream",
     "text": [
      "nb_bins = 31\n",
      "[[40], [43, 43, 14], [50, 44], [51, 44], [61], [61, 39], [62], [62, 37], [63, 37], [66], [67], [69], [70, 30], [71], [72, 13, 13], [75, 18], [76, 19], [76, 23], [79, 20], [83, 15], [83, 17], [88, 12], [92, 8], [92, 8], [93], [93], [97], [97], [97], [99], [100]]\n"
     ]
    }
   ],
   "source": [
    "import macpacking.algorithms.baseline as baseline\n",
    "strategy: Offline = baseline.BenMaier()\n",
    "result = strategy(reader.offline())\n",
    "print(f'nb_bins = {len(result)}')\n",
    "print(f'{sorted(result)}')"
   ]
  },
  {
   "cell_type": "markdown",
   "id": "74e4777c-bd24-4d4f-a3bc-8465cc5ec346",
   "metadata": {},
   "source": [
    "So the baseline finds the optimal solution. That's good news! Let's call our very own version of `NextFit`, as an offline algorithm."
   ]
  },
  {
   "cell_type": "code",
   "execution_count": 3,
   "id": "300c2945-fb05-4ab7-9f63-78568bb2f666",
   "metadata": {},
   "outputs": [
    {
     "name": "stdout",
     "output_type": "stream",
     "text": [
      "nb_bins = 35\n",
      "[[14, 13, 13, 12, 8, 8], [20, 19, 18, 17, 15], [37, 30, 23], [39, 37], [43, 40], [44, 43], [50, 44], [51], [61], [61], [62], [62], [63], [66], [67], [69], [70], [71], [72], [75], [76], [76], [79], [83], [83], [88], [92], [92], [93], [93], [97], [97], [97], [99], [100]]\n"
     ]
    }
   ],
   "source": [
    "import macpacking.algorithms.online as online\n",
    "strategy: Offline = offline.NextFit()\n",
    "result = strategy(reader.offline())\n",
    "print(f'nb_bins = {len(result)}')\n",
    "print(f'{sorted(result)}')"
   ]
  },
  {
   "cell_type": "markdown",
   "id": "10828372-717e-4a8e-bce5-bdb6781ba33f",
   "metadata": {},
   "source": [
    "Damn it, this algorithm is 4 bins far from the optimal solution! Let's try an online version. Usually, they perform worst, so let's measure it."
   ]
  },
  {
   "cell_type": "code",
   "execution_count": 4,
   "id": "50de8648-a261-4e84-bc56-14beefccde46",
   "metadata": {},
   "outputs": [
    {
     "name": "stdout",
     "output_type": "stream",
     "text": [
      "nb_bins = 31\n",
      "[[61, 13, 20], [62, 23, 15], [69, 8, 18], [83, 17], [97], [61, 37], [88, 8], [44, 43, 13], [72, 14, 12], [66, 30], [79, 19], [97], [83], [62, 37], [100], [70], [40, 44], [50, 43], [67], [63], [76], [97], [51, 39], [93], [93], [92], [76], [75], [71], [99], [92]]\n"
     ]
    }
   ],
   "source": [
    "# strategy: Online = online.NextFit()\n",
    "# result = strategy(reader.online())\n",
    "# print(f'nb_bins = {len(result)}')\n",
    "# print(f'{sorted(result)}')\n",
    "\n",
    "strategy: Online = online.FirstFit()\n",
    "result = strategy(reader.online())\n",
    "print(f'nb_bins = {len(result)}')\n",
    "print(f'{result}')"
   ]
  },
  {
   "cell_type": "markdown",
   "id": "c523a4f3-6957-4963-ae74-f0009a66d204",
   "metadata": {},
   "source": [
    "As expected, the online version is worst!"
   ]
  },
  {
   "cell_type": "markdown",
   "id": "6d1718fb",
   "metadata": {},
   "source": [
    "## T1"
   ]
  },
  {
   "cell_type": "markdown",
   "id": "3a3df830",
   "metadata": {},
   "source": [
    "INCOMPLETE, ADD DATASET ANALYSIS\n",
    "\n",
    "Single responsibility \n",
    "Definition: Each class, function, or object is only responsible for one specific task. \n",
    "\n",
    "Enforcement: \n",
    "The code follows single responsibility as certain groups of tasks are delegated to their own classes and functions. Taking for example, the task of loading data is put into the reader classes in reader.py. Another example is how the business logic (i.e. the algorithms) are put into their own classes. The online and offline algorithms are further separated as their tasks are slightly different due to the nature of their inputs, and thus each algorithm has their own respective classes. There is no “super-function” that can complete all tasks through the use of conditional, the code is separated such that each section can handle their subset of inputs. Overall, by delegating specific tasks to specific classes, instead of all the tasks into a few large classes, the code follows single responsibility.\n",
    "\n",
    "\n",
    "Open closed\n",
    "Definition: The Open Closed principles states that an app or program is open for extension but closed for modification. \n",
    "\n",
    "Enforcement: \n",
    "The code follows this principle as it utilizes abstraction, which allows for easy future implementations. Taking for example, model.py, its classes Online and Offline are both abstract and they have abstract methods called _process(). _process() is left to be implemented by other classes, for its particular type of problem (online or offline bin-packing). If another offline algorithm is wished to be implemented, there is no change of existing code needed, a new class that implements _process() from the abstract Offline class is sufficient. The same applies for the abstract Online class, and DatasetReader; these abstract classes can be implemented by new classes in the future if wanted. Thus, the existing code need not be changed to add new functionality, making it open for extension and closed for modification.\n",
    "\n",
    "Liskov’s Substitution Principle:\n",
    "Definition:\n",
    "Every subclass or derived class should be substitutable for their base or parent class.\n",
    "\n",
    "Enforcement:\n",
    "The code follows this principle as each of the abstract classes can be substituted for their subclasses. In model.py, the abstract classes both are expecting an output of type Solution for both of their _process() methods. In any call of the abstract classes, they can be substituted with one of their concretions. For example, if somewhere an Online object was created and _process() called for that object, we would be able to replace this with a NextFit_On object and its _process() call. There would be no resulting errors that occur. This applies for the Offline abstract class and its concretions, and the DatasetReader class with its concretion. \n",
    "\n",
    "Interface Segregation Principle\n",
    "Definition: Whenever you have an interface, you need everything that implements that interface to all methods/parts of that interface (i.e., everything tracks back to one interface). \n",
    "\n",
    "Enforcement:\n",
    "The code follows this principle as none of the concrete classes are required to implement unnecessary functions of what they are implementing. The NextFit classes only implement _process() from their abstract classes, and that is all that they require. BinppReader only implements _load_data_from_disk(), but does not need to implement online() or offline(), which would have been unnecessary for it to implement. \n",
    "\n",
    "Design for Interface \n",
    "Definition: Entities must depend on abstractions, not on concretions. It states that the high-level module must not depend on the low-level module, but they should depend on abstractions.\n",
    "\n",
    "Enforcement: All classes in the code depend only on abstract classes, and no abstract class depends on a concrete class within the code, thus this principle is satisfied by the code."
   ]
  },
  {
   "cell_type": "markdown",
   "id": "52e0b75d",
   "metadata": {},
   "source": [
    "## T2"
   ]
  },
  {
   "cell_type": "markdown",
   "id": "2630da06",
   "metadata": {},
   "source": [
    "PLOT BENCHMARK AND ANALYSIS"
   ]
  },
  {
   "cell_type": "markdown",
   "id": "a4bd5c8a",
   "metadata": {},
   "source": [
    "## T3"
   ]
  },
  {
   "cell_type": "markdown",
   "id": "a59de0d1",
   "metadata": {},
   "source": [
    "PLOT RESULTS AND ANALYSIS"
   ]
  },
  {
   "cell_type": "markdown",
   "id": "ad3dc3c9",
   "metadata": {},
   "source": [
    "## T4"
   ]
  },
  {
   "cell_type": "markdown",
   "id": "94a2f7d9",
   "metadata": {},
   "source": [
    "PLOT RESULTS AND ANALYSIS"
   ]
  },
  {
   "cell_type": "markdown",
   "id": "8c03e8e6",
   "metadata": {},
   "source": [
    "## T5"
   ]
  },
  {
   "cell_type": "markdown",
   "id": "c686ecf5",
   "metadata": {},
   "source": [
    "ANSWERS"
   ]
  },
  {
   "cell_type": "markdown",
   "id": "b6870f47",
   "metadata": {},
   "source": [
    "## BONUS TASK"
   ]
  },
  {
   "cell_type": "markdown",
   "id": "ce6cda5d",
   "metadata": {},
   "source": [
    "ANSWERS"
   ]
  },
  {
   "cell_type": "markdown",
   "id": "217aefb9-4bf5-4975-9e18-95718b2c47ca",
   "metadata": {},
   "source": [
    "## Self-reflection questions"
   ]
  },
  {
   "cell_type": "markdown",
   "id": "4646f916-24c0-401a-ac38-7aee03e59bf7",
   "metadata": {},
   "source": [
    "As part of the self-reflection dimension of an experiential course, each member of the group is expected to answer to the following four questions:\n",
    "\n",
    "  - What process did you go through to produce this result? (Backward)\n",
    "  - What were your standards for this piece of work? Did you meet your standards? (Inward)\n",
    "  - What the one thing you particularly want people to notice when they look at your work? (Outward)\n",
    "  - What lessons will you keep from this reading/lecture in your professional practice? (Forward)"
   ]
  }
 ],
 "metadata": {
  "kernelspec": {
   "display_name": "Python 3.10.7 64-bit",
   "language": "python",
   "name": "python3"
  },
  "language_info": {
   "codemirror_mode": {
    "name": "ipython",
    "version": 3
   },
   "file_extension": ".py",
   "mimetype": "text/x-python",
   "name": "python",
   "nbconvert_exporter": "python",
   "pygments_lexer": "ipython3",
   "version": "3.10.7"
  },
  "vscode": {
   "interpreter": {
    "hash": "afb734500600fd355917ca529030176ea0ca205570884b88f2f6f7d791fd3fbe"
   }
  }
 },
 "nbformat": 4,
 "nbformat_minor": 5
}
