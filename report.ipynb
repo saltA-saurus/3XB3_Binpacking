{
 "cells": [
  {
   "cell_type": "markdown",
   "id": "d0f21658-40c8-40c9-99d2-ec8c0b42e84f",
   "metadata": {},
   "source": [
    "# Bin Packing Lab"
   ]
  },
  {
   "cell_type": "markdown",
   "id": "f9ffdec9-9fcb-4a7b-910e-abecc6352210",
   "metadata": {},
   "source": [
    "- Authors:\n",
    "  - Jung Woo Lee, lee331@mcmaster.ca\n",
    "  - Nicholas Fabugais-Inaba, fabugain@mcmaster.ca\n",
    "- Group ID on Avenue: 56\n",
    "- Gitlab URL: https://gitlab.cas.mcmaster.ca/lee331/l2-bin-packing"
   ]
  },
  {
   "cell_type": "markdown",
   "id": "fcb763d5-aa1a-4ef1-a6ba-e3cbaae313aa",
   "metadata": {},
   "source": [
    "## How to use the provided code?"
   ]
  },
  {
   "cell_type": "markdown",
   "id": "a0308135-ad12-4563-92b8-45681d3e90a2",
   "metadata": {},
   "source": [
    "_(this section is just here for information, you can get rid of it in your own report)_"
   ]
  },
  {
   "cell_type": "code",
   "execution_count": 5,
   "id": "2166b346-058f-4619-9072-e6fbe608fa0e",
   "metadata": {},
   "outputs": [],
   "source": [
    "from macpacking.reader import DatasetReader, BinppReader\n",
    "from macpacking.model  import Online, Offline\n",
    "import macpacking.algorithms.offline as offline"
   ]
  },
  {
   "cell_type": "markdown",
   "id": "5fe23917-cc5c-4883-9a2a-581f3fbb2ba4",
   "metadata": {},
   "source": [
    "Now that the business code is imported, we can load an existing dataset"
   ]
  },
  {
   "cell_type": "code",
   "execution_count": 6,
   "id": "21df8c2c-a6fa-434b-88c3-361404872819",
   "metadata": {},
   "outputs": [
    {
     "name": "stdout",
     "output_type": "stream",
     "text": [
      "Dataset: _datasets/binpp/N1C1W1/N1C1W1_B.BPP.txt\n",
      "  - Bin Capacity: 100\n",
      "  - Objects to pack: [8, 8, 12, 13, 13, 14, 15, 17, 18, 19, 20, 23, 30, 37, 37, 39, 40, 43, 43, 44, 44, 50, 51, 61, 61, 62, 62, 63, 66, 67, 69, 70, 71, 72, 75, 76, 76, 79, 83, 83, 88, 92, 92, 93, 93, 97, 97, 97, 99, 100]\n"
     ]
    }
   ],
   "source": [
    "dataset = '_datasets/binpp/N1C1W1/N1C1W1_B.BPP.txt'\n",
    "reader: DatasetReader = BinppReader(dataset)\n",
    "print(f'Dataset: {dataset}')\n",
    "print(f'  - Bin Capacity: {reader.offline()[0]}')\n",
    "print(f'  - Objects to pack: {sorted(reader.offline()[1])}')"
   ]
  },
  {
   "cell_type": "markdown",
   "id": "0ec54798-4c40-4a2c-a88f-59d6da87975e",
   "metadata": {},
   "source": [
    "Acording to the `oracle.xslx` file, we now that the optimal solution for this case is to use _31_ bins. Let's call the baseline algorithm, which is an offline one, and see how it performs."
   ]
  },
  {
   "cell_type": "code",
   "execution_count": 7,
   "id": "6358d7c1-1777-4c63-af33-d4ebfea952a7",
   "metadata": {},
   "outputs": [
    {
     "ename": "ModuleNotFoundError",
     "evalue": "No module named 'binpacking'",
     "output_type": "error",
     "traceback": [
      "\u001b[1;31m---------------------------------------------------------------------------\u001b[0m",
      "\u001b[1;31mModuleNotFoundError\u001b[0m                       Traceback (most recent call last)",
      "Cell \u001b[1;32mIn [7], line 1\u001b[0m\n\u001b[1;32m----> 1\u001b[0m \u001b[39mimport\u001b[39;00m \u001b[39mmacpacking\u001b[39;00m\u001b[39m.\u001b[39;00m\u001b[39malgorithms\u001b[39;00m\u001b[39m.\u001b[39;00m\u001b[39mbaseline\u001b[39;00m \u001b[39mas\u001b[39;00m \u001b[39mbaseline\u001b[39;00m\n\u001b[0;32m      2\u001b[0m strategy: Offline \u001b[39m=\u001b[39m baseline\u001b[39m.\u001b[39mBenMaier()\n\u001b[0;32m      3\u001b[0m result \u001b[39m=\u001b[39m strategy(reader\u001b[39m.\u001b[39moffline())\n",
      "File \u001b[1;32mc:\\Users\\nfabu\\OneDrive\\Documents\\3XB3\\l2-bin-packing\\macpacking\\algorithms\\baseline.py:3\u001b[0m\n\u001b[0;32m      1\u001b[0m \u001b[39mfrom\u001b[39;00m \u001b[39m.\u001b[39;00m\u001b[39m.\u001b[39;00m \u001b[39mimport\u001b[39;00m Solution\n\u001b[0;32m      2\u001b[0m \u001b[39mfrom\u001b[39;00m \u001b[39m.\u001b[39;00m\u001b[39m.\u001b[39;00m\u001b[39mmodel\u001b[39;00m \u001b[39mimport\u001b[39;00m Offline\n\u001b[1;32m----> 3\u001b[0m \u001b[39mimport\u001b[39;00m \u001b[39mbinpacking\u001b[39;00m \u001b[39mas\u001b[39;00m \u001b[39mbp\u001b[39;00m\n\u001b[0;32m      6\u001b[0m \u001b[39mclass\u001b[39;00m \u001b[39mBenMaier\u001b[39;00m(Offline):\n\u001b[0;32m      8\u001b[0m     \u001b[39mdef\u001b[39;00m \u001b[39m_process\u001b[39m(\u001b[39mself\u001b[39m, capacity: \u001b[39mint\u001b[39m, weights: \u001b[39mlist\u001b[39m[\u001b[39mint\u001b[39m]) \u001b[39m-\u001b[39m\u001b[39m>\u001b[39m Solution:\n",
      "\u001b[1;31mModuleNotFoundError\u001b[0m: No module named 'binpacking'"
     ]
    }
   ],
   "source": [
    "import macpacking.algorithms.baseline as baseline\n",
    "strategy: Offline = baseline.BenMaier()\n",
    "result = strategy(reader.offline())\n",
    "print(f'nb_bins = {len(result)}')\n",
    "print(f'{sorted(result)}')"
   ]
  },
  {
   "cell_type": "markdown",
   "id": "74e4777c-bd24-4d4f-a3bc-8465cc5ec346",
   "metadata": {},
   "source": [
    "So the baseline finds the optimal solution. That's good news! Let's call our very own version of `NextFit`, as an offline algorithm."
   ]
  },
  {
   "cell_type": "code",
   "execution_count": null,
   "id": "300c2945-fb05-4ab7-9f63-78568bb2f666",
   "metadata": {},
   "outputs": [
    {
     "name": "stdout",
     "output_type": "stream",
     "text": [
      "nb_bins = 30\n",
      "[[13, 11, 10, 7, 7, 3], [22, 21, 20, 17, 14], [27, 25, 24, 23], [29, 28, 28], [33, 30, 30], [40, 33], [42, 40], [46, 44], [51, 49], [52], [56], [61], [62], [67], [67], [69], [72], [74], [76], [85], [86], [87], [88], [91], [92], [92], [96], [96], [99], [99]]\n"
     ]
    }
   ],
   "source": [
    "import macpacking.algorithms.online as online\n",
    "strategy: Offline = offline.NextFit()\n",
    "result = strategy(reader.offline())\n",
    "print(f'nb_bins = {len(result)}')\n",
    "print(f'{sorted(result)}')\n",
    "\n",
    "# strategy: Offline = offline.FirstFitDecreasing()\n",
    "# result = strategy(reader.offline())\n",
    "# print(f'nb_bins = {len(result)}')\n",
    "# print(f'{sorted(result)}')"
   ]
  },
  {
   "cell_type": "markdown",
   "id": "10828372-717e-4a8e-bce5-bdb6781ba33f",
   "metadata": {},
   "source": [
    "Damn it, this algorithm is 4 bins far from the optimal solution! Let's try an online version. Usually, they perform worst, so let's measure it."
   ]
  },
  {
   "cell_type": "code",
   "execution_count": null,
   "id": "50de8648-a261-4e84-bc56-14beefccde46",
   "metadata": {},
   "outputs": [
    {
     "name": "stdout",
     "output_type": "stream",
     "text": [
      "Next weight is: 42\n",
      "Next weight is: 46\n",
      "Next weight is: 56\n",
      "Next weight is: 76\n",
      "Next weight is: 92\n",
      "Next weight is: 11\n",
      "Next weight is: 40\n",
      "Next weight is: 86\n",
      "Next weight is: 33\n",
      "Next weight is: 67\n",
      "Next weight is: 30\n",
      "Next weight is: 51\n",
      "Next weight is: 74\n",
      "Next weight is: 96\n",
      "Next weight is: 22\n",
      "Next weight is: 23\n",
      "Next weight is: 85\n",
      "Next weight is: 44\n",
      "Next weight is: 27\n",
      "Next weight is: 99\n",
      "Next weight is: 14\n",
      "Next weight is: 61\n",
      "Next weight is: 28\n",
      "Next weight is: 7\n",
      "Next weight is: 20\n",
      "Next weight is: 30\n",
      "Next weight is: 33\n",
      "Next weight is: 52\n",
      "Next weight is: 49\n",
      "Next weight is: 17\n",
      "Next weight is: 10\n",
      "Next weight is: 25\n",
      "Next weight is: 29\n",
      "Next weight is: 13\n",
      "Next weight is: 72\n",
      "Next weight is: 3\n",
      "Next weight is: 7\n",
      "Next weight is: 96\n",
      "Next weight is: 40\n",
      "Next weight is: 24\n",
      "Next weight is: 92\n",
      "Next weight is: 28\n",
      "Next weight is: 91\n",
      "Next weight is: 87\n",
      "Next weight is: 69\n",
      "Next weight is: 67\n",
      "Next weight is: 62\n",
      "Next weight is: 99\n",
      "Next weight is: 88\n",
      "Next weight is: 21\n",
      "nb_bins = 26\n",
      "[[28, 69], [30, 33, 25, 7], [30, 51, 17], [33, 67], [42, 46, 11], [44, 27, 28], [49, 40], [52, 29], [56, 40, 3], [61, 20, 13], [62], [67, 21], [72, 24], [74, 23], [76, 22], [85, 10], [86, 14], [87], [88], [91], [92], [92, 7], [96], [96], [99], [99]]\n",
      "42\n",
      "b_1_piece\n",
      "2\n",
      "46\n",
      "b_1_piece\n",
      "2\n",
      "56\n",
      "a_piece\n",
      "1\n",
      "76\n",
      "a_piece\n",
      "1\n",
      "92\n",
      "a_piece\n",
      "1\n",
      "11\n",
      "x_piece\n",
      "4\n",
      "40\n",
      "b_2_piece\n",
      "3\n",
      "86\n",
      "a_piece\n",
      "1\n",
      "33\n",
      "x_piece\n",
      "4\n",
      "67\n",
      "a_piece\n",
      "1\n",
      "30\n",
      "x_piece\n",
      "4\n",
      "51\n",
      "a_piece\n",
      "1\n",
      "74\n",
      "a_piece\n",
      "1\n",
      "96\n",
      "a_piece\n",
      "1\n",
      "22\n",
      "x_piece\n",
      "4\n",
      "23\n",
      "x_piece\n",
      "4\n",
      "85\n",
      "a_piece\n",
      "1\n",
      "44\n",
      "b_1_piece\n",
      "2\n",
      "27\n",
      "x_piece\n",
      "4\n",
      "99\n",
      "a_piece\n",
      "1\n",
      "14\n",
      "x_piece\n",
      "4\n",
      "61\n",
      "a_piece\n",
      "1\n",
      "28\n",
      "x_piece\n",
      "4\n",
      "7\n",
      "x_piece\n",
      "4\n",
      "20\n",
      "x_piece\n",
      "4\n",
      "30\n",
      "x_piece\n",
      "4\n",
      "33\n",
      "x_piece\n",
      "4\n",
      "52\n",
      "a_piece\n",
      "1\n",
      "49\n",
      "b_1_piece\n",
      "2\n",
      "17\n",
      "x_piece\n",
      "4\n",
      "10\n",
      "x_piece\n",
      "4\n",
      "25\n",
      "x_piece\n",
      "4\n",
      "29\n",
      "x_piece\n",
      "4\n",
      "13\n",
      "x_piece\n",
      "4\n",
      "72\n",
      "a_piece\n",
      "1\n",
      "3\n",
      "x_piece\n",
      "4\n",
      "7\n",
      "x_piece\n",
      "4\n",
      "96\n",
      "a_piece\n",
      "1\n",
      "40\n",
      "b_2_piece\n",
      "3\n",
      "24\n",
      "x_piece\n",
      "4\n",
      "92\n",
      "a_piece\n",
      "1\n",
      "28\n",
      "x_piece\n",
      "4\n",
      "91\n",
      "a_piece\n",
      "1\n",
      "87\n",
      "a_piece\n",
      "1\n",
      "69\n",
      "a_piece\n",
      "1\n",
      "67\n",
      "a_piece\n",
      "1\n",
      "62\n",
      "a_piece\n",
      "1\n",
      "99\n",
      "a_piece\n",
      "1\n",
      "88\n",
      "a_piece\n",
      "1\n",
      "21\n",
      "x_piece\n",
      "4\n",
      "nb_bins = 30\n",
      "[[10, 25, 29, 13, 7], [11, 33, 30, 22, 3], [20, 30, 33, 17], [23, 27, 14, 28, 7], [24, 28, 21], [40, 40], [42, 46], [44, 49], [51], [52], [56], [61], [62], [67], [67], [69], [72], [74], [76], [85], [86], [87], [88], [91], [92], [92], [96], [96], [99], [99]]\n"
     ]
    }
   ],
   "source": [
    "strategy: Online = online.NextFit()\n",
    "result = strategy(reader.online())\n",
    "print(f'nb_bins = {len(result)}')\n",
    "print(f'{sorted(result)}')\n",
    "\n",
    "# strategy: Online = online.RefinedFirstFit()\n",
    "# result = strategy(reader.online())\n",
    "# print(f'nb_bins = {len(result)}')\n",
    "# print(f'{sorted(result)}')\n",
    "\n",
    "# strategy: Online = online.FirstFit()\n",
    "# result = strategy(reader.online())\n",
    "# print(f'nb_bins = {len(result)}')\n",
    "# print(f'{sorted(result)}')"
   ]
  },
  {
   "cell_type": "markdown",
   "id": "c523a4f3-6957-4963-ae74-f0009a66d204",
   "metadata": {},
   "source": [
    "As expected, the online version is worst!"
   ]
  },
  {
   "cell_type": "markdown",
   "id": "6d1718fb",
   "metadata": {},
   "source": [
    "## T1"
   ]
  },
  {
   "cell_type": "markdown",
   "id": "3a3df830",
   "metadata": {},
   "source": [
    "INCOMPLETE, ADD DATASET ANALYSIS\n",
    "\n",
    "Single responsibility \n",
    "Definition: Each class, function, or object is only responsible for one specific task. \n",
    "\n",
    "Enforcement: \n",
    "The code follows single responsibility as certain groups of tasks are delegated to their own classes and functions. Taking for example, the task of loading data is put into the reader classes in reader.py. Another example is how the business logic (i.e. the algorithms) are put into their own classes. The online and offline algorithms are further separated as their tasks are slightly different due to the nature of their inputs, and thus each algorithm has their own respective classes. There is no “super-function” that can complete all tasks through the use of conditional, the code is separated such that each section can handle their subset of inputs. Overall, by delegating specific tasks to specific classes, instead of all the tasks into a few large classes, the code follows single responsibility.\n",
    "\n",
    "\n",
    "Open closed\n",
    "Definition: The Open Closed principles states that an app or program is open for extension but closed for modification. \n",
    "\n",
    "Enforcement: \n",
    "The code follows this principle as it utilizes abstraction, which allows for easy future implementations. Taking for example, model.py, its classes Online and Offline are both abstract and they have abstract methods called _process(). _process() is left to be implemented by other classes, for its particular type of problem (online or offline bin-packing). If another offline algorithm is wished to be implemented, there is no change of existing code needed, a new class that implements _process() from the abstract Offline class is sufficient. The same applies for the abstract Online class, and DatasetReader; these abstract classes can be implemented by new classes in the future if wanted. Thus, the existing code need not be changed to add new functionality, making it open for extension and closed for modification.\n",
    "\n",
    "Liskov’s Substitution Principle:\n",
    "Definition:\n",
    "Every subclass or derived class should be substitutable for their base or parent class.\n",
    "\n",
    "Enforcement:\n",
    "The code follows this principle as each of the abstract classes can be substituted for their subclasses. In model.py, the abstract classes both are expecting an output of type Solution for both of their _process() methods. In any call of the abstract classes, they can be substituted with one of their concretions. For example, if somewhere an Online object was created and _process() called for that object, we would be able to replace this with a NextFit_On object and its _process() call. There would be no resulting errors that occur. This applies for the Offline abstract class and its concretions, and the DatasetReader class with its concretion. \n",
    "\n",
    "Interface Segregation Principle\n",
    "Definition: Whenever you have an interface, you need everything that implements that interface to all methods/parts of that interface (i.e., everything tracks back to one interface). \n",
    "\n",
    "Enforcement:\n",
    "The code follows this principle as none of the concrete classes are required to implement unnecessary functions of what they are implementing. The NextFit classes only implement _process() from their abstract classes, and that is all that they require. BinppReader only implements _load_data_from_disk(), but does not need to implement online() or offline(), which would have been unnecessary for it to implement. \n",
    "\n",
    "Design for Interface \n",
    "Definition: Entities must depend on abstractions, not on concretions. It states that the high-level module must not depend on the low-level module, but they should depend on abstractions.\n",
    "\n",
    "Enforcement: All classes in the code depend only on abstract classes, and no abstract class depends on a concrete class within the code, thus this principle is satisfied by the code."
   ]
  },
  {
   "cell_type": "markdown",
   "id": "52e0b75d",
   "metadata": {},
   "source": [
    "## T2"
   ]
  },
  {
   "cell_type": "markdown",
   "id": "2630da06",
   "metadata": {},
   "source": [
    "PLOT BENCHMARK AND ANALYSIS"
   ]
  },
  {
   "cell_type": "markdown",
   "id": "a4bd5c8a",
   "metadata": {},
   "source": [
    "## T3"
   ]
  },
  {
   "cell_type": "code",
   "execution_count": null,
   "id": "a59de0d1",
   "metadata": {},
   "outputs": [],
   "source": [
    "from macpacking.reader import DatasetReader, BinppReader\n",
    "from macpacking.model  import Online, Offline\n",
    "import macpacking.algorithms.offline as offline\n",
    "import macpacking.algorithms.online as online\n",
    "import macpacking.algorithms.baseline as baseline\n",
    "\n",
    "dataset = '_datasets/binpp/N1C1W1/N1C1W1_B.BPP.txt'\n",
    "reader: DatasetReader = BinppReader(dataset)\n",
    "print(f'Dataset: {dataset}')\n",
    "print(f'  - Bin Capacity: {reader.offline()[0]}')\n",
    "print(f'  - Objects to pack: {sorted(reader.offline()[1])}')\n",
    "\n",
    "strategy: Offline = baseline.BenMaier()\n",
    "result = strategy(reader.offline())\n",
    "print(f'nb_bins = {len(result)}')\n",
    "print(f'{sorted(result)}')\n",
    "\n",
    "strategy: Offline = offline.FirstFitDecreasing()\n",
    "result = strategy(reader.offline())\n",
    "print(f'nb_bins = {len(result)}')\n",
    "print(f'{sorted(result)}')\n",
    "\n",
    "strategy: Offline = offline.BestFitDecreasing()\n",
    "result = strategy(reader.offline())\n",
    "print(f'nb_bins = {len(result)}')\n",
    "print(f'{sorted(result)}')\n",
    "\n",
    "strategy: Offline = offline.WorstFitDecreasing()\n",
    "result = strategy(reader.offline())\n",
    "print(f'nb_bins = {len(result)}')\n",
    "print(f'{sorted(result)}')\n",
    "\n",
    "strategy: Online = online.FirstFit()\n",
    "result = strategy(reader.online())\n",
    "print(f'nb_bins = {len(result)}')\n",
    "print(f'{sorted(result)}')\n",
    "\n",
    "strategy: Online = online.BestFit()\n",
    "result = strategy(reader.online())\n",
    "print(f'nb_bins = {len(result)}')\n",
    "print(f'{sorted(result)}')\n",
    "\n",
    "strategy: Online = online.WorstFit()\n",
    "result = strategy(reader.online())\n",
    "print(f'nb_bins = {len(result)}')\n",
    "print(f'{sorted(result)}')"
   ]
  },
  {
   "cell_type": "markdown",
   "id": "ad3dc3c9",
   "metadata": {},
   "source": [
    "## T4"
   ]
  },
  {
   "cell_type": "markdown",
   "id": "94a2f7d9",
   "metadata": {},
   "source": [
    "PLOT RESULTS AND ANALYSIS"
   ]
  },
  {
   "cell_type": "markdown",
   "id": "8c03e8e6",
   "metadata": {},
   "source": [
    "## T5"
   ]
  },
  {
   "cell_type": "markdown",
   "id": "c686ecf5",
   "metadata": {},
   "source": [
    "ANSWERS"
   ]
  },
  {
   "cell_type": "markdown",
   "id": "b6870f47",
   "metadata": {},
   "source": [
    "## BONUS TASK"
   ]
  },
  {
   "cell_type": "markdown",
   "id": "ce6cda5d",
   "metadata": {},
   "source": [
    "ANSWERS"
   ]
  },
  {
   "cell_type": "markdown",
   "id": "217aefb9-4bf5-4975-9e18-95718b2c47ca",
   "metadata": {},
   "source": [
    "## Self-reflection questions"
   ]
  },
  {
   "cell_type": "markdown",
   "id": "4646f916-24c0-401a-ac38-7aee03e59bf7",
   "metadata": {},
   "source": [
    "As part of the self-reflection dimension of an experiential course, each member of the group is expected to answer to the following four questions:\n",
    "\n",
    "  - What process did you go through to produce this result? (Backward)\n",
    "  - What were your standards for this piece of work? Did you meet your standards? (Inward)\n",
    "  - What the one thing you particularly want people to notice when they look at your work? (Outward)\n",
    "  - What lessons will you keep from this reading/lecture in your professional practice? (Forward)"
   ]
  }
 ],
 "metadata": {
  "kernelspec": {
   "display_name": "Python 3.10.7 64-bit",
   "language": "python",
   "name": "python3"
  },
  "language_info": {
   "codemirror_mode": {
    "name": "ipython",
    "version": 3
   },
   "file_extension": ".py",
   "mimetype": "text/x-python",
   "name": "python",
   "nbconvert_exporter": "python",
   "pygments_lexer": "ipython3",
   "version": "3.10.7"
  },
  "vscode": {
   "interpreter": {
    "hash": "344ddf1e8149d2467cca8cf1f443aac1aa38af907fbfe73e77dc2a75c5fe10e5"
   }
  }
 },
 "nbformat": 4,
 "nbformat_minor": 5
}
